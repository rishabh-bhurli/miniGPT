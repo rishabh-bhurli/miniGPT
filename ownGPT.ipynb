{
  "nbformat": 4,
  "nbformat_minor": 0,
  "metadata": {
    "colab": {
      "provenance": []
    },
    "kernelspec": {
      "name": "python3",
      "display_name": "Python 3"
    },
    "language_info": {
      "name": "python"
    }
  },
  "cells": [
    {
      "cell_type": "code",
      "source": [
        "!apt-get install pandoc\n",
        "!pip install pypandoc"
      ],
      "metadata": {
        "collapsed": true,
        "colab": {
          "base_uri": "https://localhost:8080/"
        },
        "id": "kHUXR_TWWcdk",
        "outputId": "e9938b81-b47d-43d1-9aaa-0975c2ea6ae3"
      },
      "execution_count": 15,
      "outputs": [
        {
          "output_type": "stream",
          "name": "stdout",
          "text": [
            "Reading package lists... Done\n",
            "Building dependency tree... Done\n",
            "Reading state information... Done\n",
            "The following additional packages will be installed:\n",
            "  libcmark-gfm-extensions0.29.0.gfm.3 libcmark-gfm0.29.0.gfm.3 pandoc-data\n",
            "Suggested packages:\n",
            "  texlive-latex-recommended texlive-xetex texlive-luatex pandoc-citeproc texlive-latex-extra\n",
            "  context wkhtmltopdf librsvg2-bin groff ghc nodejs php python ruby libjs-mathjax libjs-katex\n",
            "  citation-style-language-styles\n",
            "The following NEW packages will be installed:\n",
            "  libcmark-gfm-extensions0.29.0.gfm.3 libcmark-gfm0.29.0.gfm.3 pandoc pandoc-data\n",
            "0 upgraded, 4 newly installed, 0 to remove and 29 not upgraded.\n",
            "Need to get 20.6 MB of archives.\n",
            "After this operation, 156 MB of additional disk space will be used.\n",
            "Get:1 http://archive.ubuntu.com/ubuntu jammy/universe amd64 libcmark-gfm0.29.0.gfm.3 amd64 0.29.0.gfm.3-3 [115 kB]\n",
            "Get:2 http://archive.ubuntu.com/ubuntu jammy/universe amd64 libcmark-gfm-extensions0.29.0.gfm.3 amd64 0.29.0.gfm.3-3 [25.1 kB]\n",
            "Get:3 http://archive.ubuntu.com/ubuntu jammy/universe amd64 pandoc-data all 2.9.2.1-3ubuntu2 [81.8 kB]\n",
            "Get:4 http://archive.ubuntu.com/ubuntu jammy/universe amd64 pandoc amd64 2.9.2.1-3ubuntu2 [20.3 MB]\n",
            "Fetched 20.6 MB in 2s (11.8 MB/s)\n",
            "Selecting previously unselected package libcmark-gfm0.29.0.gfm.3:amd64.\n",
            "(Reading database ... 124947 files and directories currently installed.)\n",
            "Preparing to unpack .../libcmark-gfm0.29.0.gfm.3_0.29.0.gfm.3-3_amd64.deb ...\n",
            "Unpacking libcmark-gfm0.29.0.gfm.3:amd64 (0.29.0.gfm.3-3) ...\n",
            "Selecting previously unselected package libcmark-gfm-extensions0.29.0.gfm.3:amd64.\n",
            "Preparing to unpack .../libcmark-gfm-extensions0.29.0.gfm.3_0.29.0.gfm.3-3_amd64.deb ...\n",
            "Unpacking libcmark-gfm-extensions0.29.0.gfm.3:amd64 (0.29.0.gfm.3-3) ...\n",
            "Selecting previously unselected package pandoc-data.\n",
            "Preparing to unpack .../pandoc-data_2.9.2.1-3ubuntu2_all.deb ...\n",
            "Unpacking pandoc-data (2.9.2.1-3ubuntu2) ...\n",
            "Selecting previously unselected package pandoc.\n",
            "Preparing to unpack .../pandoc_2.9.2.1-3ubuntu2_amd64.deb ...\n",
            "Unpacking pandoc (2.9.2.1-3ubuntu2) ...\n",
            "Setting up libcmark-gfm0.29.0.gfm.3:amd64 (0.29.0.gfm.3-3) ...\n",
            "Setting up libcmark-gfm-extensions0.29.0.gfm.3:amd64 (0.29.0.gfm.3-3) ...\n",
            "Setting up pandoc-data (2.9.2.1-3ubuntu2) ...\n",
            "Setting up pandoc (2.9.2.1-3ubuntu2) ...\n",
            "Processing triggers for man-db (2.10.2-1) ...\n",
            "Processing triggers for libc-bin (2.35-0ubuntu3.8) ...\n",
            "/sbin/ldconfig.real: /usr/local/lib/libtbbbind_2_5.so.3 is not a symbolic link\n",
            "\n",
            "/sbin/ldconfig.real: /usr/local/lib/libtbbbind_2_0.so.3 is not a symbolic link\n",
            "\n",
            "/sbin/ldconfig.real: /usr/local/lib/libtbb.so.12 is not a symbolic link\n",
            "\n",
            "/sbin/ldconfig.real: /usr/local/lib/libtcm_debug.so.1 is not a symbolic link\n",
            "\n",
            "/sbin/ldconfig.real: /usr/local/lib/libtbbmalloc_proxy.so.2 is not a symbolic link\n",
            "\n",
            "/sbin/ldconfig.real: /usr/local/lib/libtbbmalloc.so.2 is not a symbolic link\n",
            "\n",
            "/sbin/ldconfig.real: /usr/local/lib/libur_adapter_level_zero.so.0 is not a symbolic link\n",
            "\n",
            "/sbin/ldconfig.real: /usr/local/lib/libtcm.so.1 is not a symbolic link\n",
            "\n",
            "/sbin/ldconfig.real: /usr/local/lib/libur_adapter_opencl.so.0 is not a symbolic link\n",
            "\n",
            "/sbin/ldconfig.real: /usr/local/lib/libur_loader.so.0 is not a symbolic link\n",
            "\n",
            "/sbin/ldconfig.real: /usr/local/lib/libhwloc.so.15 is not a symbolic link\n",
            "\n",
            "/sbin/ldconfig.real: /usr/local/lib/libumf.so.0 is not a symbolic link\n",
            "\n",
            "/sbin/ldconfig.real: /usr/local/lib/libtbbbind.so.3 is not a symbolic link\n",
            "\n",
            "Collecting pypandoc\n",
            "  Downloading pypandoc-1.15-py3-none-any.whl.metadata (16 kB)\n",
            "Downloading pypandoc-1.15-py3-none-any.whl (21 kB)\n",
            "Installing collected packages: pypandoc\n",
            "Successfully installed pypandoc-1.15\n"
          ]
        }
      ]
    },
    {
      "cell_type": "code",
      "source": [
        "#Saving python docs from GitHub in .rst format and converting them to .txt using pandoc\n",
        "import os\n",
        "import pypandoc\n",
        "\n",
        "input_dir = '/content/python_dataset'\n",
        "output_dir = '/content/python_dataset_txt'\n",
        "combined_file_path = '/content/python_dataset_combined.txt'\n",
        "\n",
        "if not os.path.exists(output_dir):\n",
        "    os.makedirs(output_dir)\n",
        "\n",
        "# Function to convert .rst to .txt using pandoc\n",
        "def rst_to_txt(rst_file, txt_file):\n",
        "    pypandoc.convert_file(rst_file, 'plain', outputfile=txt_file)\n",
        "\n",
        "# Convert all .rst files to .txt\n",
        "for root, _, files in os.walk(input_dir):\n",
        "    for file in files:\n",
        "        if file.endswith('.rst'):\n",
        "            rst_file_path = os.path.join(root, file)\n",
        "            txt_file_path = os.path.join(output_dir, os.path.splitext(file)[0] + '.txt')\n",
        "            print(f'Converting: {rst_file_path} -> {txt_file_path}')\n",
        "            rst_to_txt(rst_file_path, txt_file_path)\n",
        "\n",
        "# Combine all .txt files into one\n",
        "with open(combined_file_path, 'w', encoding='utf-8') as combined_file:\n",
        "    for root, _, files in os.walk(output_dir):\n",
        "        for file in files:\n",
        "            if file.endswith('.txt'):\n",
        "                txt_file_path = os.path.join(root, file)\n",
        "                with open(txt_file_path, 'r', encoding='utf-8') as txt_file:\n",
        "                    combined_file.write(txt_file.read())\n",
        "                    combined_file.write('\\n')  # Add a newline between files\n",
        "\n",
        "print(f\"All .rst files have been converted and combined into: {combined_file_path}\")"
      ],
      "metadata": {
        "colab": {
          "base_uri": "https://localhost:8080/"
        },
        "collapsed": true,
        "id": "rba-AROXO18b",
        "outputId": "5ead0349-bef6-47ee-f627-58486f576cfc"
      },
      "execution_count": 20,
      "outputs": [
        {
          "output_type": "stream",
          "name": "stdout",
          "text": [
            "Converting: /content/python_dataset/functional.rst -> /content/python_dataset_txt/functional.txt\n",
            "Converting: /content/python_dataset/warnings.rst -> /content/python_dataset_txt/warnings.txt\n"
          ]
        },
        {
          "output_type": "stream",
          "name": "stderr",
          "text": [
            "[WARNING] Reference not found for 'Key \"l\"' at chunk line 1 column 4\n",
            "\n",
            "WARNING:pypandoc:Reference not found for 'Key \"l\"' at chunk line 1 column 4\n",
            "\n"
          ]
        },
        {
          "output_type": "stream",
          "name": "stdout",
          "text": [
            "Converting: /content/python_dataset/test.rst -> /content/python_dataset_txt/test.txt\n",
            "Converting: /content/python_dataset/pwd.rst -> /content/python_dataset_txt/pwd.txt\n",
            "Converting: /content/python_dataset/dbm.rst -> /content/python_dataset_txt/dbm.txt\n"
          ]
        },
        {
          "output_type": "stream",
          "name": "stderr",
          "text": [
            "[WARNING] Could not load include file '../includes/wasm-notavail.rst' at line 167 column 1\n",
            "WARNING:pypandoc:Could not load include file '../includes/wasm-notavail.rst' at line 167 column 1\n",
            "[WARNING] Could not load include file '../includes/wasm-mobile-notavail.rst' at line 212 column 1\n",
            "WARNING:pypandoc:Could not load include file '../includes/wasm-mobile-notavail.rst' at line 212 column 1\n",
            "[WARNING] Could not load include file '../includes/wasm-mobile-notavail.rst' at line 333 column 1\n",
            "\n",
            "WARNING:pypandoc:Could not load include file '../includes/wasm-mobile-notavail.rst' at line 333 column 1\n",
            "\n"
          ]
        },
        {
          "output_type": "stream",
          "name": "stdout",
          "text": [
            "Converting: /content/python_dataset/faulthandler.rst -> /content/python_dataset_txt/faulthandler.txt\n",
            "Converting: /content/python_dataset/resource.rst -> /content/python_dataset_txt/resource.txt\n",
            "Converting: /content/python_dataset/site.rst -> /content/python_dataset_txt/site.txt\n",
            "Converting: /content/python_dataset/asyncio-llapi-index.rst -> /content/python_dataset_txt/asyncio-llapi-index.txt\n"
          ]
        },
        {
          "output_type": "stream",
          "name": "stderr",
          "text": [
            "[WARNING] Could not load include file '../includes/wasm-mobile-notavail.rst' at line 29 column 1\n",
            "\n",
            "WARNING:pypandoc:Could not load include file '../includes/wasm-mobile-notavail.rst' at line 29 column 1\n",
            "\n"
          ]
        },
        {
          "output_type": "stream",
          "name": "stdout",
          "text": [
            "Converting: /content/python_dataset/copyreg.rst -> /content/python_dataset_txt/copyreg.txt\n",
            "Converting: /content/python_dataset/readline.rst -> /content/python_dataset_txt/readline.txt\n",
            "Converting: /content/python_dataset/functions.rst -> /content/python_dataset_txt/functions.txt\n",
            "Converting: /content/python_dataset/os.path.rst -> /content/python_dataset_txt/os.path.txt\n",
            "Converting: /content/python_dataset/__future__.rst -> /content/python_dataset_txt/__future__.txt\n"
          ]
        },
        {
          "output_type": "stream",
          "name": "stderr",
          "text": [
            "[WARNING] Could not load include file '../includes/wasm-notavail.rst' at line 17 column 1\n",
            "\n",
            "WARNING:pypandoc:Could not load include file '../includes/wasm-notavail.rst' at line 17 column 1\n",
            "\n"
          ]
        },
        {
          "output_type": "stream",
          "name": "stdout",
          "text": [
            "Converting: /content/python_dataset/getpass.rst -> /content/python_dataset_txt/getpass.txt\n",
            "Converting: /content/python_dataset/glob.rst -> /content/python_dataset_txt/glob.txt\n",
            "Converting: /content/python_dataset/mm.rst -> /content/python_dataset_txt/mm.txt\n",
            "Converting: /content/python_dataset/frameworks.rst -> /content/python_dataset_txt/frameworks.txt\n",
            "Converting: /content/python_dataset/trace.rst -> /content/python_dataset_txt/trace.txt\n",
            "Converting: /content/python_dataset/hashlib.rst -> /content/python_dataset_txt/hashlib.txt\n",
            "Converting: /content/python_dataset/pyexpat.rst -> /content/python_dataset_txt/pyexpat.txt\n",
            "Converting: /content/python_dataset/asyncio-eventloop.rst -> /content/python_dataset_txt/asyncio-eventloop.txt\n"
          ]
        },
        {
          "output_type": "stream",
          "name": "stderr",
          "text": [
            "[WARNING] Reference not found for 'Key \"l\"' at chunk line 1 column 4\n",
            "WARNING:pypandoc:Reference not found for 'Key \"l\"' at chunk line 1 column 4\n",
            "[WARNING] Reference not found for 'Key \"l\"' at chunk line 1 column 8\n",
            "\n",
            "WARNING:pypandoc:Reference not found for 'Key \"l\"' at chunk line 1 column 8\n",
            "\n"
          ]
        },
        {
          "output_type": "stream",
          "name": "stdout",
          "text": [
            "Converting: /content/python_dataset/locale.rst -> /content/python_dataset_txt/locale.txt\n",
            "Converting: /content/python_dataset/chunk.rst -> /content/python_dataset_txt/chunk.txt\n",
            "Converting: /content/python_dataset/shelve.rst -> /content/python_dataset_txt/shelve.txt\n",
            "Converting: /content/python_dataset/copy.rst -> /content/python_dataset_txt/copy.txt\n",
            "Converting: /content/python_dataset/shutil.rst -> /content/python_dataset_txt/shutil.txt\n",
            "Converting: /content/python_dataset/xmlrpc.rst -> /content/python_dataset_txt/xmlrpc.txt\n",
            "Converting: /content/python_dataset/logging.config.rst -> /content/python_dataset_txt/logging.config.txt\n"
          ]
        },
        {
          "output_type": "stream",
          "name": "stderr",
          "text": [
            "[WARNING] Reference not found for 'after' at line 589 column 32\n",
            "\n",
            "WARNING:pypandoc:Reference not found for 'after' at line 589 column 32\n",
            "\n"
          ]
        },
        {
          "output_type": "stream",
          "name": "stdout",
          "text": [
            "Converting: /content/python_dataset/ctypes.rst -> /content/python_dataset_txt/ctypes.txt\n"
          ]
        },
        {
          "output_type": "stream",
          "name": "stderr",
          "text": [
            "[WARNING] Reference not found for 'b_base' at chunk line 1 column 9\n",
            "WARNING:pypandoc:Reference not found for 'b_base' at chunk line 1 column 9\n",
            "[WARNING] Reference not found for 'b_needsfree' at chunk line 1 column 14\n",
            "WARNING:pypandoc:Reference not found for 'b_needsfree' at chunk line 1 column 14\n",
            "[WARNING] Reference not found for 'fields' at chunk line 1 column 9\n",
            "WARNING:pypandoc:Reference not found for 'fields' at chunk line 1 column 9\n",
            "[WARNING] Reference not found for 'pack' at chunk line 1 column 7\n",
            "WARNING:pypandoc:Reference not found for 'pack' at chunk line 1 column 7\n",
            "[WARNING] Reference not found for 'align' at chunk line 1 column 8\n",
            "WARNING:pypandoc:Reference not found for 'align' at chunk line 1 column 8\n",
            "[WARNING] Reference not found for 'layout' at chunk line 1 column 9\n",
            "WARNING:pypandoc:Reference not found for 'layout' at chunk line 1 column 9\n",
            "[WARNING] Reference not found for 'anonymous' at chunk line 1 column 12\n",
            "WARNING:pypandoc:Reference not found for 'anonymous' at chunk line 1 column 12\n",
            "[WARNING] Reference not found for 'length' at chunk line 1 column 9\n",
            "WARNING:pypandoc:Reference not found for 'length' at chunk line 1 column 9\n",
            "[WARNING] Reference not found for 'type' at chunk line 1 column 7\n",
            "WARNING:pypandoc:Reference not found for 'type' at chunk line 1 column 7\n",
            "[WARNING] Reference not found for 'type' at chunk line 1 column 7\n",
            "\n",
            "WARNING:pypandoc:Reference not found for 'type' at chunk line 1 column 7\n",
            "\n"
          ]
        },
        {
          "output_type": "stream",
          "name": "stdout",
          "text": [
            "Converting: /content/python_dataset/urllib.rst -> /content/python_dataset_txt/urllib.txt\n",
            "Converting: /content/python_dataset/asyncio-policy.rst -> /content/python_dataset_txt/asyncio-policy.txt\n",
            "Converting: /content/python_dataset/xml.sax.handler.rst -> /content/python_dataset_txt/xml.sax.handler.txt\n"
          ]
        },
        {
          "output_type": "stream",
          "name": "stderr",
          "text": [
            "[WARNING] Could not load include file '../includes/wasm-notavail.rst' at line 27 column 1\n",
            "\n",
            "WARNING:pypandoc:Could not load include file '../includes/wasm-notavail.rst' at line 27 column 1\n",
            "\n"
          ]
        },
        {
          "output_type": "stream",
          "name": "stdout",
          "text": [
            "Converting: /content/python_dataset/http.server.rst -> /content/python_dataset_txt/http.server.txt\n",
            "Converting: /content/python_dataset/dialog.rst -> /content/python_dataset_txt/dialog.txt\n",
            "Converting: /content/python_dataset/tomllib.rst -> /content/python_dataset_txt/tomllib.txt\n",
            "Converting: /content/python_dataset/email.headerregistry.rst -> /content/python_dataset_txt/email.headerregistry.txt\n",
            "Converting: /content/python_dataset/zipimport.rst -> /content/python_dataset_txt/zipimport.txt\n",
            "Converting: /content/python_dataset/cmath.rst -> /content/python_dataset_txt/cmath.txt\n",
            "Converting: /content/python_dataset/uuid.rst -> /content/python_dataset_txt/uuid.txt\n",
            "Converting: /content/python_dataset/debug.rst -> /content/python_dataset_txt/debug.txt\n",
            "Converting: /content/python_dataset/builtins.rst -> /content/python_dataset_txt/builtins.txt\n",
            "Converting: /content/python_dataset/binascii.rst -> /content/python_dataset_txt/binascii.txt\n",
            "Converting: /content/python_dataset/ipaddress.rst -> /content/python_dataset_txt/ipaddress.txt\n",
            "Converting: /content/python_dataset/email.generator.rst -> /content/python_dataset_txt/email.generator.txt\n",
            "Converting: /content/python_dataset/msilib.rst -> /content/python_dataset_txt/msilib.txt\n",
            "Converting: /content/python_dataset/bdb.rst -> /content/python_dataset_txt/bdb.txt\n",
            "Converting: /content/python_dataset/numeric.rst -> /content/python_dataset_txt/numeric.txt\n",
            "Converting: /content/python_dataset/email.encoders.rst -> /content/python_dataset_txt/email.encoders.txt\n",
            "Converting: /content/python_dataset/tkinter.font.rst -> /content/python_dataset_txt/tkinter.font.txt\n",
            "Converting: /content/python_dataset/spwd.rst -> /content/python_dataset_txt/spwd.txt\n",
            "Converting: /content/python_dataset/codecs.rst -> /content/python_dataset_txt/codecs.txt\n"
          ]
        },
        {
          "output_type": "stream",
          "name": "stderr",
          "text": [
            "[WARNING] Reference not found for 'Key \"l\"' at chunk line 1 column 4\n",
            "WARNING:pypandoc:Reference not found for 'Key \"l\"' at chunk line 1 column 4\n",
            "[WARNING] Reference not found for 'Key \"l\"' at chunk line 1 column 4\n",
            "WARNING:pypandoc:Reference not found for 'Key \"l\"' at chunk line 1 column 4\n",
            "[WARNING] Reference not found for 'Key \"p{0.3\\\\linewidth}\"' at chunk line 1 column 38\n",
            "WARNING:pypandoc:Reference not found for 'Key \"p{0.3\\\\linewidth}\"' at chunk line 1 column 38\n",
            "[WARNING] Reference not found for 'Key \"l\"' at chunk line 1 column 4\n",
            "WARNING:pypandoc:Reference not found for 'Key \"l\"' at chunk line 1 column 4\n",
            "[WARNING] Reference not found for 'Key \"p{0.3\\\\linewidth}\"' at chunk line 1 column 38\n",
            "WARNING:pypandoc:Reference not found for 'Key \"p{0.3\\\\linewidth}\"' at chunk line 1 column 38\n",
            "[WARNING] Reference not found for 'Key \"l\"' at chunk line 1 column 4\n",
            "WARNING:pypandoc:Reference not found for 'Key \"l\"' at chunk line 1 column 4\n",
            "[WARNING] Reference not found for 'Key \"l\"' at chunk line 1 column 8\n",
            "WARNING:pypandoc:Reference not found for 'Key \"l\"' at chunk line 1 column 8\n",
            "[WARNING] Reference not found for 'Key \"l\"' at chunk line 1 column 4\n",
            "WARNING:pypandoc:Reference not found for 'Key \"l\"' at chunk line 1 column 4\n",
            "[WARNING] Reference not found for 'Key \"l\"' at chunk line 1 column 8\n",
            "\n",
            "WARNING:pypandoc:Reference not found for 'Key \"l\"' at chunk line 1 column 8\n",
            "\n"
          ]
        },
        {
          "output_type": "stream",
          "name": "stdout",
          "text": [
            "Converting: /content/python_dataset/socket.rst -> /content/python_dataset_txt/socket.txt\n"
          ]
        },
        {
          "output_type": "stream",
          "name": "stderr",
          "text": [
            "[WARNING] Could not load include file '../includes/wasm-notavail.rst' at line 22 column 1\n",
            "WARNING:pypandoc:Could not load include file '../includes/wasm-notavail.rst' at line 22 column 1\n",
            "[WARNING] Reference not found for 'af' at chunk line 1 column 8\n",
            "WARNING:pypandoc:Reference not found for 'af' at chunk line 1 column 8\n",
            "[WARNING] Reference not found for 'sock' at chunk line 1 column 19\n",
            "WARNING:pypandoc:Reference not found for 'sock' at chunk line 1 column 19\n",
            "[WARNING] Reference not found for 'so' at chunk line 1 column 4\n",
            "WARNING:pypandoc:Reference not found for 'so' at chunk line 1 column 4\n",
            "[WARNING] Reference not found for 'msg' at chunk line 3 column 5\n",
            "WARNING:pypandoc:Reference not found for 'msg' at chunk line 3 column 5\n",
            "[WARNING] Reference not found for 'sol' at chunk line 4 column 5\n",
            "WARNING:pypandoc:Reference not found for 'sol' at chunk line 4 column 5\n",
            "[WARNING] Reference not found for 'scm' at chunk line 5 column 5\n",
            "WARNING:pypandoc:Reference not found for 'scm' at chunk line 5 column 5\n",
            "[WARNING] Reference not found for 'ipproto' at chunk line 6 column 9\n",
            "WARNING:pypandoc:Reference not found for 'ipproto' at chunk line 6 column 9\n",
            "[WARNING] Reference not found for 'ipport' at chunk line 7 column 8\n",
            "WARNING:pypandoc:Reference not found for 'ipport' at chunk line 7 column 8\n",
            "[WARNING] Reference not found for 'inaddr' at chunk line 8 column 8\n",
            "WARNING:pypandoc:Reference not found for 'inaddr' at chunk line 8 column 8\n",
            "[WARNING] Reference not found for 'ip' at chunk line 9 column 4\n",
            "WARNING:pypandoc:Reference not found for 'ip' at chunk line 9 column 4\n",
            "[WARNING] Reference not found for 'ipv6' at chunk line 10 column 6\n",
            "WARNING:pypandoc:Reference not found for 'ipv6' at chunk line 10 column 6\n",
            "[WARNING] Reference not found for 'eai' at chunk line 11 column 5\n",
            "WARNING:pypandoc:Reference not found for 'eai' at chunk line 11 column 5\n",
            "[WARNING] Reference not found for 'ai' at chunk line 12 column 4\n",
            "WARNING:pypandoc:Reference not found for 'ai' at chunk line 12 column 4\n",
            "[WARNING] Reference not found for 'ni' at chunk line 13 column 4\n",
            "WARNING:pypandoc:Reference not found for 'ni' at chunk line 13 column 4\n",
            "[WARNING] Reference not found for 'tcp' at chunk line 14 column 5\n",
            "WARNING:pypandoc:Reference not found for 'tcp' at chunk line 14 column 5\n",
            "[WARNING] Reference not found for 'sol_can' at chunk line 3 column 9\n",
            "WARNING:pypandoc:Reference not found for 'sol_can' at chunk line 3 column 9\n",
            "[WARNING] Reference not found for 'can' at chunk line 4 column 5\n",
            "WARNING:pypandoc:Reference not found for 'can' at chunk line 4 column 5\n",
            "[WARNING] Reference not found for 'can_bcm' at chunk line 2 column 9\n",
            "WARNING:pypandoc:Reference not found for 'can_bcm' at chunk line 2 column 9\n",
            "[WARNING] Reference not found for 'packet' at chunk line 3 column 8\n",
            "WARNING:pypandoc:Reference not found for 'packet' at chunk line 3 column 8\n",
            "[WARNING] Reference not found for 'rds' at chunk line 4 column 5\n",
            "WARNING:pypandoc:Reference not found for 'rds' at chunk line 4 column 5\n",
            "[WARNING] Reference not found for 'rcvall' at chunk line 4 column 8\n",
            "WARNING:pypandoc:Reference not found for 'rcvall' at chunk line 4 column 8\n",
            "[WARNING] Reference not found for 'tipc' at chunk line 1 column 6\n",
            "WARNING:pypandoc:Reference not found for 'tipc' at chunk line 1 column 6\n",
            "[WARNING] Reference not found for 'alg' at chunk line 3 column 5\n",
            "\n",
            "WARNING:pypandoc:Reference not found for 'alg' at chunk line 3 column 5\n",
            "\n"
          ]
        },
        {
          "output_type": "stream",
          "name": "stdout",
          "text": [
            "Converting: /content/python_dataset/string.rst -> /content/python_dataset_txt/string.txt\n",
            "Converting: /content/python_dataset/pty.rst -> /content/python_dataset_txt/pty.txt\n",
            "Converting: /content/python_dataset/cmd.rst -> /content/python_dataset_txt/cmd.txt\n",
            "Converting: /content/python_dataset/security_warnings.rst -> /content/python_dataset_txt/security_warnings.txt\n",
            "Converting: /content/python_dataset/array.rst -> /content/python_dataset_txt/array.txt\n",
            "Converting: /content/python_dataset/asyncio-protocol.rst -> /content/python_dataset_txt/asyncio-protocol.txt\n",
            "Converting: /content/python_dataset/threading.rst -> /content/python_dataset_txt/threading.txt\n"
          ]
        },
        {
          "output_type": "stream",
          "name": "stderr",
          "text": [
            "[WARNING] Could not load include file '../includes/wasm-notavail.rst' at line 50 column 1\n",
            "\n",
            "WARNING:pypandoc:Could not load include file '../includes/wasm-notavail.rst' at line 50 column 1\n",
            "\n"
          ]
        },
        {
          "output_type": "stream",
          "name": "stdout",
          "text": [
            "Converting: /content/python_dataset/sched.rst -> /content/python_dataset_txt/sched.txt\n",
            "Converting: /content/python_dataset/removed.rst -> /content/python_dataset_txt/removed.txt\n",
            "Converting: /content/python_dataset/io.rst -> /content/python_dataset_txt/io.txt\n"
          ]
        },
        {
          "output_type": "stream",
          "name": "stderr",
          "text": [
            "[WARNING] Reference not found for 'Key \"l\"' at chunk line 1 column 4\n",
            "WARNING:pypandoc:Reference not found for 'Key \"l\"' at chunk line 1 column 4\n",
            "[WARNING] Reference not found for 'Key \"l\"' at chunk line 1 column 8\n",
            "\n",
            "WARNING:pypandoc:Reference not found for 'Key \"l\"' at chunk line 1 column 8\n",
            "\n"
          ]
        },
        {
          "output_type": "stream",
          "name": "stdout",
          "text": [
            "Converting: /content/python_dataset/logging.rst -> /content/python_dataset_txt/logging.txt\n"
          ]
        },
        {
          "output_type": "stream",
          "name": "stderr",
          "text": [
            "[WARNING] Reference not found for 'Key \"l\"' at chunk line 1 column 4\n",
            "\n",
            "WARNING:pypandoc:Reference not found for 'Key \"l\"' at chunk line 1 column 4\n",
            "\n"
          ]
        },
        {
          "output_type": "stream",
          "name": "stdout",
          "text": [
            "Converting: /content/python_dataset/fnmatch.rst -> /content/python_dataset_txt/fnmatch.txt\n",
            "Converting: /content/python_dataset/pyclbr.rst -> /content/python_dataset_txt/pyclbr.txt\n",
            "Converting: /content/python_dataset/json.rst -> /content/python_dataset_txt/json.txt\n",
            "Converting: /content/python_dataset/unicodedata.rst -> /content/python_dataset_txt/unicodedata.txt\n",
            "Converting: /content/python_dataset/cgi.rst -> /content/python_dataset_txt/cgi.txt\n",
            "Converting: /content/python_dataset/mailbox.rst -> /content/python_dataset_txt/mailbox.txt\n"
          ]
        },
        {
          "output_type": "stream",
          "name": "stderr",
          "text": [
            "[WARNING] Reference not found for 'from' at chunk line 1 column 15\n",
            "WARNING:pypandoc:Reference not found for 'from' at chunk line 1 column 15\n",
            "[WARNING] Reference not found for 'time' at chunk line 1 column 22\n",
            "WARNING:pypandoc:Reference not found for 'time' at chunk line 1 column 22\n",
            "[WARNING] Reference not found for 'from' at chunk line 1 column 15\n",
            "WARNING:pypandoc:Reference not found for 'from' at chunk line 1 column 15\n",
            "[WARNING] Reference not found for 'time' at chunk line 1 column 22\n",
            "\n",
            "WARNING:pypandoc:Reference not found for 'time' at chunk line 1 column 22\n",
            "\n"
          ]
        },
        {
          "output_type": "stream",
          "name": "stdout",
          "text": [
            "Converting: /content/python_dataset/colorsys.rst -> /content/python_dataset_txt/colorsys.txt\n",
            "Converting: /content/python_dataset/functools.rst -> /content/python_dataset_txt/functools.txt\n",
            "Converting: /content/python_dataset/email.header.rst -> /content/python_dataset_txt/email.header.txt\n",
            "Converting: /content/python_dataset/tkinter.ttk.rst -> /content/python_dataset_txt/tkinter.ttk.txt\n"
          ]
        },
        {
          "output_type": "stream",
          "name": "stderr",
          "text": [
            "[WARNING] Reference not found for 'Key \"l\"' at chunk line 1 column 4\n",
            "WARNING:pypandoc:Reference not found for 'Key \"l\"' at chunk line 1 column 4\n",
            "[WARNING] Reference not found for 'Key \"l\"' at chunk line 1 column 4\n",
            "WARNING:pypandoc:Reference not found for 'Key \"l\"' at chunk line 1 column 4\n",
            "[WARNING] Reference not found for 'Key \"l\"' at chunk line 1 column 4\n",
            "WARNING:pypandoc:Reference not found for 'Key \"l\"' at chunk line 1 column 4\n",
            "[WARNING] Reference not found for 'Key \"l\"' at chunk line 1 column 4\n",
            "WARNING:pypandoc:Reference not found for 'Key \"l\"' at chunk line 1 column 4\n",
            "[WARNING] Reference not found for 'Key \"l\"' at chunk line 1 column 4\n",
            "WARNING:pypandoc:Reference not found for 'Key \"l\"' at chunk line 1 column 4\n",
            "[WARNING] Reference not found for 'Key \"l\"' at chunk line 1 column 4\n",
            "WARNING:pypandoc:Reference not found for 'Key \"l\"' at chunk line 1 column 4\n",
            "[WARNING] Reference not found for 'Key \"l\"' at chunk line 1 column 4\n",
            "WARNING:pypandoc:Reference not found for 'Key \"l\"' at chunk line 1 column 4\n",
            "[WARNING] Reference not found for 'Key \"l\"' at chunk line 1 column 4\n",
            "WARNING:pypandoc:Reference not found for 'Key \"l\"' at chunk line 1 column 4\n",
            "[WARNING] Reference not found for 'Key \"l\"' at chunk line 1 column 4\n",
            "WARNING:pypandoc:Reference not found for 'Key \"l\"' at chunk line 1 column 4\n",
            "[WARNING] Reference not found for 'Key \"l\"' at chunk line 1 column 4\n",
            "WARNING:pypandoc:Reference not found for 'Key \"l\"' at chunk line 1 column 4\n",
            "[WARNING] Reference not found for 'Key \"l\"' at chunk line 1 column 4\n",
            "WARNING:pypandoc:Reference not found for 'Key \"l\"' at chunk line 1 column 4\n",
            "[WARNING] Reference not found for 'Key \"l\"' at chunk line 1 column 4\n",
            "WARNING:pypandoc:Reference not found for 'Key \"l\"' at chunk line 1 column 4\n",
            "[WARNING] Reference not found for 'Key \"l\"' at chunk line 1 column 4\n",
            "WARNING:pypandoc:Reference not found for 'Key \"l\"' at chunk line 1 column 4\n",
            "[WARNING] Reference not found for 'Key \"l\"' at chunk line 1 column 4\n",
            "WARNING:pypandoc:Reference not found for 'Key \"l\"' at chunk line 1 column 4\n",
            "[WARNING] Reference not found for 'Key \"l\"' at chunk line 1 column 4\n",
            "\n",
            "WARNING:pypandoc:Reference not found for 'Key \"l\"' at chunk line 1 column 4\n",
            "\n"
          ]
        },
        {
          "output_type": "stream",
          "name": "stdout",
          "text": [
            "Converting: /content/python_dataset/grp.rst -> /content/python_dataset_txt/grp.txt\n",
            "Converting: /content/python_dataset/archiving.rst -> /content/python_dataset_txt/archiving.txt\n",
            "Converting: /content/python_dataset/asyncio-platforms.rst -> /content/python_dataset_txt/asyncio-platforms.txt\n",
            "Converting: /content/python_dataset/mimetypes.rst -> /content/python_dataset_txt/mimetypes.txt\n",
            "Converting: /content/python_dataset/binary.rst -> /content/python_dataset_txt/binary.txt\n",
            "Converting: /content/python_dataset/concurrent.futures.rst -> /content/python_dataset_txt/concurrent.futures.txt\n"
          ]
        },
        {
          "output_type": "stream",
          "name": "stderr",
          "text": [
            "[WARNING] Could not load include file '../includes/wasm-notavail.rst' at line 25 column 1\n",
            "\n",
            "WARNING:pypandoc:Could not load include file '../includes/wasm-notavail.rst' at line 25 column 1\n",
            "\n"
          ]
        },
        {
          "output_type": "stream",
          "name": "stdout",
          "text": [
            "Converting: /content/python_dataset/stringprep.rst -> /content/python_dataset_txt/stringprep.txt\n",
            "Converting: /content/python_dataset/rlcompleter.rst -> /content/python_dataset_txt/rlcompleter.txt\n",
            "Converting: /content/python_dataset/annotationlib.rst -> /content/python_dataset_txt/annotationlib.txt\n",
            "Converting: /content/python_dataset/ipc.rst -> /content/python_dataset_txt/ipc.txt\n",
            "Converting: /content/python_dataset/base64.rst -> /content/python_dataset_txt/base64.txt\n",
            "Converting: /content/python_dataset/fileinput.rst -> /content/python_dataset_txt/fileinput.txt\n",
            "Converting: /content/python_dataset/signal.rst -> /content/python_dataset_txt/signal.txt\n"
          ]
        },
        {
          "output_type": "stream",
          "name": "stderr",
          "text": [
            "[WARNING] Reference not found for 'ctrl' at chunk line 1 column 65\n",
            "\n",
            "WARNING:pypandoc:Reference not found for 'ctrl' at chunk line 1 column 65\n",
            "\n"
          ]
        },
        {
          "output_type": "stream",
          "name": "stdout",
          "text": [
            "Converting: /content/python_dataset/asyncio-subprocess.rst -> /content/python_dataset_txt/asyncio-subprocess.txt\n",
            "Converting: /content/python_dataset/keyword.rst -> /content/python_dataset_txt/keyword.txt\n",
            "Converting: /content/python_dataset/syslog.rst -> /content/python_dataset_txt/syslog.txt\n",
            "Converting: /content/python_dataset/graphlib.rst -> /content/python_dataset_txt/graphlib.txt\n",
            "Converting: /content/python_dataset/email.examples.rst -> /content/python_dataset_txt/email.examples.txt\n",
            "Converting: /content/python_dataset/gettext.rst -> /content/python_dataset_txt/gettext.txt\n"
          ]
        },
        {
          "output_type": "stream",
          "name": "stderr",
          "text": [
            "[WARNING] Reference not found for 'class' at chunk line 1 column 59\n",
            "\n",
            "WARNING:pypandoc:Reference not found for 'class' at chunk line 1 column 59\n",
            "\n",
            "[WARNING] Could not load include file '../includes/wasm-notavail.rst' at line 19 column 1\n",
            "WARNING:pypandoc:Could not load include file '../includes/wasm-notavail.rst' at line 19 column 1\n",
            "[WARNING] Reference not found for 'Key \"checked-hash\"' at chunk line 1 column 45\n",
            "\n",
            "WARNING:pypandoc:Reference not found for 'Key \"checked-hash\"' at chunk line 1 column 45\n",
            "\n"
          ]
        },
        {
          "output_type": "stream",
          "name": "stdout",
          "text": [
            "Converting: /content/python_dataset/compileall.rst -> /content/python_dataset_txt/compileall.txt\n",
            "Converting: /content/python_dataset/markup.rst -> /content/python_dataset_txt/markup.txt\n",
            "Converting: /content/python_dataset/xmlrpc.server.rst -> /content/python_dataset_txt/xmlrpc.server.txt\n"
          ]
        },
        {
          "output_type": "stream",
          "name": "stderr",
          "text": [
            "[WARNING] Could not load include file '../includes/wasm-notavail.rst' at line 28 column 1\n",
            "\n",
            "WARNING:pypandoc:Could not load include file '../includes/wasm-notavail.rst' at line 28 column 1\n",
            "\n",
            "[WARNING] Could not load include file '../includes/wasm-notavail.rst' at line 27 column 1\n",
            "\n",
            "WARNING:pypandoc:Could not load include file '../includes/wasm-notavail.rst' at line 27 column 1\n",
            "\n"
          ]
        },
        {
          "output_type": "stream",
          "name": "stdout",
          "text": [
            "Converting: /content/python_dataset/select.rst -> /content/python_dataset_txt/select.txt\n",
            "Converting: /content/python_dataset/http.rst -> /content/python_dataset_txt/http.txt\n",
            "Converting: /content/python_dataset/fractions.rst -> /content/python_dataset_txt/fractions.txt\n",
            "Converting: /content/python_dataset/code.rst -> /content/python_dataset_txt/code.txt\n",
            "Converting: /content/python_dataset/html.rst -> /content/python_dataset_txt/html.txt\n"
          ]
        },
        {
          "output_type": "stream",
          "name": "stderr",
          "text": [
            "[WARNING] Could not load include file '../includes/wasm-notavail.rst' at line 37 column 1\n",
            "WARNING:pypandoc:Could not load include file '../includes/wasm-notavail.rst' at line 37 column 1\n",
            "[WARNING] Reference not found for 'Key \"l\"' at chunk line 1 column 4\n",
            "\n",
            "WARNING:pypandoc:Reference not found for 'Key \"l\"' at chunk line 1 column 4\n",
            "\n"
          ]
        },
        {
          "output_type": "stream",
          "name": "stdout",
          "text": [
            "Converting: /content/python_dataset/xmlrpc.client.rst -> /content/python_dataset_txt/xmlrpc.client.txt\n",
            "Converting: /content/python_dataset/asyncio-graph.rst -> /content/python_dataset_txt/asyncio-graph.txt\n",
            "Converting: /content/python_dataset/wave.rst -> /content/python_dataset_txt/wave.txt\n",
            "Converting: /content/python_dataset/crypt.rst -> /content/python_dataset_txt/crypt.txt\n",
            "Converting: /content/python_dataset/distribution.rst -> /content/python_dataset_txt/distribution.txt\n",
            "Converting: /content/python_dataset/importlib.resources.abc.rst -> /content/python_dataset_txt/importlib.resources.abc.txt\n",
            "Converting: /content/python_dataset/xml.sax.utils.rst -> /content/python_dataset_txt/xml.sax.utils.txt\n",
            "Converting: /content/python_dataset/asyncio-extending.rst -> /content/python_dataset_txt/asyncio-extending.txt\n",
            "Converting: /content/python_dataset/venv.rst -> /content/python_dataset_txt/venv.txt\n"
          ]
        },
        {
          "output_type": "stream",
          "name": "stderr",
          "text": [
            "[WARNING] Could not load include file '../includes/wasm-mobile-notavail.rst' at line 64 column 1\n",
            "\n",
            "WARNING:pypandoc:Could not load include file '../includes/wasm-mobile-notavail.rst' at line 64 column 1\n",
            "\n",
            "[WARNING] Reference not found for 'madv' at line 347 column 6\n",
            "WARNING:pypandoc:Reference not found for 'madv' at line 347 column 6\n",
            "[WARNING] Reference not found for 'map' at line 384 column 5\n",
            "WARNING:pypandoc:Reference not found for 'map' at line 384 column 5\n",
            "[WARNING] Could not load include file '../includes/wasm-notavail.rst' at line 11 column 1\n",
            "WARNING:pypandoc:Could not load include file '../includes/wasm-notavail.rst' at line 11 column 1\n",
            "[WARNING] Reference not found for 'madv' at line 347 column 6\n",
            "WARNING:pypandoc:Reference not found for 'madv' at line 347 column 6\n",
            "[WARNING] Reference not found for 'map' at line 384 column 5\n",
            "\n",
            "WARNING:pypandoc:Reference not found for 'map' at line 384 column 5\n",
            "\n"
          ]
        },
        {
          "output_type": "stream",
          "name": "stdout",
          "text": [
            "Converting: /content/python_dataset/mmap.rst -> /content/python_dataset_txt/mmap.txt\n",
            "Converting: /content/python_dataset/profile.rst -> /content/python_dataset_txt/profile.txt\n",
            "Converting: /content/python_dataset/development.rst -> /content/python_dataset_txt/development.txt\n",
            "Converting: /content/python_dataset/dis.rst -> /content/python_dataset_txt/dis.txt\n",
            "Converting: /content/python_dataset/modulefinder.rst -> /content/python_dataset_txt/modulefinder.txt\n",
            "Converting: /content/python_dataset/internet.rst -> /content/python_dataset_txt/internet.txt\n",
            "Converting: /content/python_dataset/audit_events.rst -> /content/python_dataset_txt/audit_events.txt\n",
            "Converting: /content/python_dataset/msvcrt.rst -> /content/python_dataset_txt/msvcrt.txt\n",
            "Converting: /content/python_dataset/unittest.rst -> /content/python_dataset_txt/unittest.txt\n"
          ]
        },
        {
          "output_type": "stream",
          "name": "stderr",
          "text": [
            "[WARNING] Could not load include file '../includes/wasm-notavail.rst' at line 15 column 1\n",
            "\n",
            "WARNING:pypandoc:Could not load include file '../includes/wasm-notavail.rst' at line 15 column 1\n",
            "\n"
          ]
        },
        {
          "output_type": "stream",
          "name": "stdout",
          "text": [
            "Converting: /content/python_dataset/socketserver.rst -> /content/python_dataset_txt/socketserver.txt\n",
            "Converting: /content/python_dataset/winreg.rst -> /content/python_dataset_txt/winreg.txt\n"
          ]
        },
        {
          "output_type": "stream",
          "name": "stderr",
          "text": [
            "[WARNING] Reference not found for 'hkey' at line 543 column 6\n",
            "WARNING:pypandoc:Reference not found for 'hkey' at line 543 column 6\n",
            "[WARNING] Reference not found for 'hkey' at line 543 column 6\n",
            "\n",
            "WARNING:pypandoc:Reference not found for 'hkey' at line 543 column 6\n",
            "\n"
          ]
        },
        {
          "output_type": "stream",
          "name": "stdout",
          "text": [
            "Converting: /content/python_dataset/linecache.rst -> /content/python_dataset_txt/linecache.txt\n",
            "Converting: /content/python_dataset/wsgiref.rst -> /content/python_dataset_txt/wsgiref.txt\n",
            "Converting: /content/python_dataset/statistics.rst -> /content/python_dataset_txt/statistics.txt\n",
            "Converting: /content/python_dataset/enum.rst -> /content/python_dataset_txt/enum.txt\n"
          ]
        },
        {
          "output_type": "stream",
          "name": "stderr",
          "text": [
            "[WARNING] Reference not found for 'add_alias' at chunk line 1 column 21\n",
            "WARNING:pypandoc:Reference not found for 'add_alias' at chunk line 1 column 21\n",
            "[WARNING] Reference not found for 'add_value_alias' at chunk line 1 column 27\n",
            "WARNING:pypandoc:Reference not found for 'add_value_alias' at chunk line 1 column 27\n",
            "[WARNING] Reference not found for 'name' at chunk line 1 column 12\n",
            "WARNING:pypandoc:Reference not found for 'name' at chunk line 1 column 12\n",
            "[WARNING] Reference not found for 'value' at chunk line 1 column 13\n",
            "WARNING:pypandoc:Reference not found for 'value' at chunk line 1 column 13\n",
            "[WARNING] Reference not found for 'order' at chunk line 1 column 13\n",
            "WARNING:pypandoc:Reference not found for 'order' at chunk line 1 column 13\n",
            "[WARNING] Reference not found for 'ignore' at chunk line 1 column 14\n",
            "WARNING:pypandoc:Reference not found for 'ignore' at chunk line 1 column 14\n",
            "[WARNING] Reference not found for 'generate_next_value' at chunk line 1 column 27\n",
            "WARNING:pypandoc:Reference not found for 'generate_next_value' at chunk line 1 column 27\n",
            "[WARNING] Reference not found for 'generate_next_value' at chunk line 14 column 34\n",
            "WARNING:pypandoc:Reference not found for 'generate_next_value' at chunk line 14 column 34\n",
            "[WARNING] Reference not found for 'missing' at chunk line 1 column 15\n",
            "WARNING:pypandoc:Reference not found for 'missing' at chunk line 1 column 15\n",
            "[WARNING] Reference not found for 'numeric_repr' at chunk line 1 column 15\n",
            "\n",
            "WARNING:pypandoc:Reference not found for 'numeric_repr' at chunk line 1 column 15\n",
            "\n"
          ]
        },
        {
          "output_type": "stream",
          "name": "stdout",
          "text": [
            "Converting: /content/python_dataset/doctest.rst -> /content/python_dataset_txt/doctest.txt\n",
            "Converting: /content/python_dataset/email.iterators.rst -> /content/python_dataset_txt/email.iterators.txt\n",
            "Converting: /content/python_dataset/pathlib.rst -> /content/python_dataset_txt/pathlib.txt\n"
          ]
        },
        {
          "output_type": "stream",
          "name": "stderr",
          "text": [
            "[WARNING] Reference not found for 'unc paths' at chunk line 2 column 41\n",
            "\n",
            "WARNING:pypandoc:Reference not found for 'unc paths' at chunk line 2 column 41\n",
            "\n"
          ]
        },
        {
          "output_type": "stream",
          "name": "stdout",
          "text": [
            "Converting: /content/python_dataset/tarfile.rst -> /content/python_dataset_txt/tarfile.txt\n",
            "Converting: /content/python_dataset/bisect.rst -> /content/python_dataset_txt/bisect.txt\n",
            "Converting: /content/python_dataset/datatypes.rst -> /content/python_dataset_txt/datatypes.txt\n",
            "Converting: /content/python_dataset/asyncio-queue.rst -> /content/python_dataset_txt/asyncio-queue.txt\n",
            "Converting: /content/python_dataset/http.cookiejar.rst -> /content/python_dataset_txt/http.cookiejar.txt\n",
            "Converting: /content/python_dataset/tkinter.rst -> /content/python_dataset_txt/tkinter.txt\n",
            "Converting: /content/python_dataset/ossaudiodev.rst -> /content/python_dataset_txt/ossaudiodev.txt\n",
            "Converting: /content/python_dataset/ssl.rst -> /content/python_dataset_txt/ssl.txt\n"
          ]
        },
        {
          "output_type": "stream",
          "name": "stderr",
          "text": [
            "[WARNING] Could not load include file '../includes/wasm-notavail.rst' at line 38 column 1\n",
            "WARNING:pypandoc:Could not load include file '../includes/wasm-notavail.rst' at line 38 column 1\n",
            "[WARNING] Reference not found for 'cert' at chunk line 1 column 42\n",
            "WARNING:pypandoc:Reference not found for 'cert' at chunk line 1 column 42\n",
            "[WARNING] Reference not found for 'verify' at chunk line 1 column 44\n",
            "WARNING:pypandoc:Reference not found for 'verify' at chunk line 1 column 44\n",
            "[WARNING] Reference not found for 'op' at chunk line 1 column 40\n",
            "WARNING:pypandoc:Reference not found for 'op' at chunk line 1 column 40\n",
            "[WARNING] Reference not found for 'alert_description' at chunk line 3 column 19\n",
            "WARNING:pypandoc:Reference not found for 'alert_description' at chunk line 3 column 19\n",
            "[WARNING] Reference not found for 'alert_description' at chunk line 1 column 55\n",
            "WARNING:pypandoc:Reference not found for 'alert_description' at chunk line 1 column 55\n",
            "[WARNING] Reference not found for 'ssl_error' at chunk line 1 column 47\n",
            "WARNING:pypandoc:Reference not found for 'ssl_error' at chunk line 1 column 47\n",
            "[WARNING] Reference not found for '3' at chunk line 1 column 13\n",
            "WARNING:pypandoc:Reference not found for '3' at chunk line 1 column 13\n",
            "[WARNING] Reference not found for '1' at chunk line 1 column 8\n",
            "WARNING:pypandoc:Reference not found for '1' at chunk line 1 column 8\n",
            "[WARNING] Reference not found for '2' at chunk line 1 column 8\n",
            "WARNING:pypandoc:Reference not found for '2' at chunk line 1 column 8\n",
            "[WARNING] Reference not found for '3' at chunk line 1 column 22\n",
            "WARNING:pypandoc:Reference not found for '3' at chunk line 1 column 22\n",
            "[WARNING] Reference not found for '1' at chunk line 1 column 8\n",
            "WARNING:pypandoc:Reference not found for '1' at chunk line 1 column 8\n",
            "[WARNING] Reference not found for '2' at chunk line 1 column 8\n",
            "WARNING:pypandoc:Reference not found for '2' at chunk line 1 column 8\n",
            "[WARNING] Reference not found for 'Key \"op_no_sslv3\"' at chunk line 5 column 29\n",
            "\n",
            "WARNING:pypandoc:Reference not found for 'Key \"op_no_sslv3\"' at chunk line 5 column 29\n",
            "\n"
          ]
        },
        {
          "output_type": "stream",
          "name": "stdout",
          "text": [
            "Converting: /content/python_dataset/imghdr.rst -> /content/python_dataset_txt/imghdr.txt\n",
            "Converting: /content/python_dataset/email.compat32-message.rst -> /content/python_dataset_txt/email.compat32-message.txt\n",
            "Converting: /content/python_dataset/webbrowser.rst -> /content/python_dataset_txt/webbrowser.txt\n",
            "Converting: /content/python_dataset/shlex.rst -> /content/python_dataset_txt/shlex.txt\n"
          ]
        },
        {
          "output_type": "stream",
          "name": "stderr",
          "text": [
            "[WARNING] Reference not found for 'Key \"', 'e;', 'f', '>abc;', '(def', 'ghi)'] >>> s = shlex.shlex(text, posix=true, punctuation_chars=true) >>> s.whitespace_split = true >>> list(s) ['a', '&&', 'b', ';', 'c', '&&', 'd', '\"' at chunk line 12 column 41\n",
            "\n",
            "WARNING:pypandoc:Reference not found for 'Key \"', 'e;', 'f', '>abc;', '(def', 'ghi)'] >>> s = shlex.shlex(text, posix=true, punctuation_chars=true) >>> s.whitespace_split = true >>> list(s) ['a', '&&', 'b', ';', 'c', '&&', 'd', '\"' at chunk line 12 column 41\n",
            "\n"
          ]
        },
        {
          "output_type": "stream",
          "name": "stdout",
          "text": [
            "Converting: /content/python_dataset/queue.rst -> /content/python_dataset_txt/queue.txt\n",
            "Converting: /content/python_dataset/asyncio-future.rst -> /content/python_dataset_txt/asyncio-future.txt\n",
            "Converting: /content/python_dataset/modules.rst -> /content/python_dataset_txt/modules.txt\n",
            "Converting: /content/python_dataset/types.rst -> /content/python_dataset_txt/types.txt\n",
            "Converting: /content/python_dataset/numbers.rst -> /content/python_dataset_txt/numbers.txt\n",
            "Converting: /content/python_dataset/xdrlib.rst -> /content/python_dataset_txt/xdrlib.txt\n",
            "Converting: /content/python_dataset/traceback.rst -> /content/python_dataset_txt/traceback.txt\n",
            "Converting: /content/python_dataset/stat.rst -> /content/python_dataset_txt/stat.txt\n",
            "Converting: /content/python_dataset/email.contentmanager.rst -> /content/python_dataset_txt/email.contentmanager.txt\n",
            "Converting: /content/python_dataset/unittest.mock.rst -> /content/python_dataset_txt/unittest.mock.txt\n",
            "Converting: /content/python_dataset/py_compile.rst -> /content/python_dataset_txt/py_compile.txt\n",
            "Converting: /content/python_dataset/mailcap.rst -> /content/python_dataset_txt/mailcap.txt\n",
            "Converting: /content/python_dataset/_thread.rst -> /content/python_dataset_txt/_thread.txt\n",
            "Converting: /content/python_dataset/pickle.rst -> /content/python_dataset_txt/pickle.txt\n",
            "Converting: /content/python_dataset/re.rst -> /content/python_dataset_txt/re.txt\n"
          ]
        },
        {
          "output_type": "stream",
          "name": "stderr",
          "text": [
            "[WARNING] Reference not found for 'unicode technical standard #18' at chunk line 2 column 15\n",
            "\n",
            "WARNING:pypandoc:Reference not found for 'unicode technical standard #18' at chunk line 2 column 15\n",
            "\n"
          ]
        },
        {
          "output_type": "stream",
          "name": "stdout",
          "text": [
            "Converting: /content/python_dataset/contextvars.rst -> /content/python_dataset_txt/contextvars.txt\n",
            "Converting: /content/python_dataset/importlib.resources.rst -> /content/python_dataset_txt/importlib.resources.txt\n",
            "Converting: /content/python_dataset/email.errors.rst -> /content/python_dataset_txt/email.errors.txt\n",
            "Converting: /content/python_dataset/weakref.rst -> /content/python_dataset_txt/weakref.txt\n",
            "Converting: /content/python_dataset/concurrent.rst -> /content/python_dataset_txt/concurrent.txt\n",
            "Converting: /content/python_dataset/persistence.rst -> /content/python_dataset_txt/persistence.txt\n",
            "Converting: /content/python_dataset/sysconfig.rst -> /content/python_dataset_txt/sysconfig.txt\n",
            "Converting: /content/python_dataset/atexit.rst -> /content/python_dataset_txt/atexit.txt\n",
            "Converting: /content/python_dataset/symtable.rst -> /content/python_dataset_txt/symtable.txt\n",
            "Converting: /content/python_dataset/email.utils.rst -> /content/python_dataset_txt/email.utils.txt\n",
            "Converting: /content/python_dataset/asyncio-dev.rst -> /content/python_dataset_txt/asyncio-dev.txt\n",
            "Converting: /content/python_dataset/html.parser.rst -> /content/python_dataset_txt/html.parser.txt\n",
            "Converting: /content/python_dataset/asynchat.rst -> /content/python_dataset_txt/asynchat.txt\n",
            "Converting: /content/python_dataset/platform.rst -> /content/python_dataset_txt/platform.txt\n",
            "Converting: /content/python_dataset/text.rst -> /content/python_dataset_txt/text.txt\n",
            "Converting: /content/python_dataset/secrets.rst -> /content/python_dataset_txt/secrets.txt\n"
          ]
        },
        {
          "output_type": "stream",
          "name": "stderr",
          "text": [
            "[WARNING] Could not load include file '../includes/wasm-notavail.rst' at line 33 column 1\n",
            "\n",
            "WARNING:pypandoc:Could not load include file '../includes/wasm-notavail.rst' at line 33 column 1\n",
            "\n"
          ]
        },
        {
          "output_type": "stream",
          "name": "stdout",
          "text": [
            "Converting: /content/python_dataset/http.client.rst -> /content/python_dataset_txt/http.client.txt\n",
            "Converting: /content/python_dataset/reprlib.rst -> /content/python_dataset_txt/reprlib.txt\n"
          ]
        },
        {
          "output_type": "stream",
          "name": "stderr",
          "text": [
            "[WARNING] Reference not found for 'Key \"'.join(map(repr, self)) + '>' ... >>> m = mylist('abc') >>> m.append(m) >>> m.append('x') >>> print(m) <'a'\"' at chunk line 13 column 6\n",
            "WARNING:pypandoc:Reference not found for 'Key \"'.join(map(repr, self)) + '>' ... >>> m = mylist('abc') >>> m.append(m) >>> m.append('x') >>> print(m) <'a'\"' at chunk line 13 column 6\n",
            "[WARNING] Reference not found for 'Key \"'c'\"' at chunk line 13 column 14\n",
            "\n",
            "WARNING:pypandoc:Reference not found for 'Key \"'c'\"' at chunk line 13 column 14\n",
            "\n"
          ]
        },
        {
          "output_type": "stream",
          "name": "stdout",
          "text": [
            "Converting: /content/python_dataset/nis.rst -> /content/python_dataset_txt/nis.txt\n",
            "Converting: /content/python_dataset/decimal.rst -> /content/python_dataset_txt/decimal.txt\n",
            "Converting: /content/python_dataset/windows.rst -> /content/python_dataset_txt/windows.txt\n",
            "Converting: /content/python_dataset/distutils.rst -> /content/python_dataset_txt/distutils.txt\n",
            "Converting: /content/python_dataset/allos.rst -> /content/python_dataset_txt/allos.txt\n",
            "Converting: /content/python_dataset/logging.handlers.rst -> /content/python_dataset_txt/logging.handlers.txt\n",
            "Converting: /content/python_dataset/timeit.rst -> /content/python_dataset_txt/timeit.txt\n",
            "Converting: /content/python_dataset/exceptions.rst -> /content/python_dataset_txt/exceptions.txt\n",
            "Converting: /content/python_dataset/gc.rst -> /content/python_dataset_txt/gc.txt\n",
            "Converting: /content/python_dataset/gzip.rst -> /content/python_dataset_txt/gzip.txt\n",
            "Converting: /content/python_dataset/crypto.rst -> /content/python_dataset_txt/crypto.txt\n",
            "Converting: /content/python_dataset/netdata.rst -> /content/python_dataset_txt/netdata.txt\n",
            "Converting: /content/python_dataset/http.cookies.rst -> /content/python_dataset_txt/http.cookies.txt\n"
          ]
        },
        {
          "output_type": "stream",
          "name": "stderr",
          "text": [
            "[WARNING] Reference not found for 'chips (cookies having independent partitioned state)' at chunk line 33 column 56\n",
            "\n",
            "WARNING:pypandoc:Reference not found for 'chips (cookies having independent partitioned state)' at chunk line 33 column 56\n",
            "\n"
          ]
        },
        {
          "output_type": "stream",
          "name": "stdout",
          "text": [
            "Converting: /content/python_dataset/constants.rst -> /content/python_dataset_txt/constants.txt\n",
            "Converting: /content/python_dataset/tracemalloc.rst -> /content/python_dataset_txt/tracemalloc.txt\n",
            "Converting: /content/python_dataset/cmdlinelibs.rst -> /content/python_dataset_txt/cmdlinelibs.txt\n",
            "Converting: /content/python_dataset/curses.rst -> /content/python_dataset_txt/curses.txt\n"
          ]
        },
        {
          "output_type": "stream",
          "name": "stderr",
          "text": [
            "[WARNING] Could not load include file '../includes/wasm-mobile-notavail.rst' at line 26 column 1\n",
            "\n",
            "WARNING:pypandoc:Could not load include file '../includes/wasm-mobile-notavail.rst' at line 26 column 1\n",
            "\n"
          ]
        },
        {
          "output_type": "stream",
          "name": "stdout",
          "text": [
            "Converting: /content/python_dataset/uu.rst -> /content/python_dataset_txt/uu.txt\n",
            "Converting: /content/python_dataset/idle.rst -> /content/python_dataset_txt/idle.txt\n",
            "Converting: /content/python_dataset/xml.sax.rst -> /content/python_dataset_txt/xml.sax.txt\n",
            "Converting: /content/python_dataset/pdb.rst -> /content/python_dataset_txt/pdb.txt\n",
            "Converting: /content/python_dataset/zipfile.rst -> /content/python_dataset_txt/zipfile.txt\n",
            "Converting: /content/python_dataset/winsound.rst -> /content/python_dataset_txt/winsound.txt\n",
            "Converting: /content/python_dataset/pprint.rst -> /content/python_dataset_txt/pprint.txt\n",
            "Converting: /content/python_dataset/sunau.rst -> /content/python_dataset_txt/sunau.txt\n",
            "Converting: /content/python_dataset/index.rst -> /content/python_dataset_txt/index.txt\n",
            "Converting: /content/python_dataset/lzma.rst -> /content/python_dataset_txt/lzma.txt\n",
            "Converting: /content/python_dataset/tkinter.messagebox.rst -> /content/python_dataset_txt/tkinter.messagebox.txt\n",
            "Converting: /content/python_dataset/token.rst -> /content/python_dataset_txt/token.txt\n",
            "Converting: /content/python_dataset/pipes.rst -> /content/python_dataset_txt/pipes.txt\n",
            "Converting: /content/python_dataset/inspect.rst -> /content/python_dataset_txt/inspect.txt\n"
          ]
        },
        {
          "output_type": "stream",
          "name": "stderr",
          "text": [
            "[WARNING] Reference not found for 'Key \"l\"' at chunk line 1 column 4\n",
            "\n",
            "WARNING:pypandoc:Reference not found for 'Key \"l\"' at chunk line 1 column 4\n",
            "\n"
          ]
        },
        {
          "output_type": "stream",
          "name": "stdout",
          "text": [
            "Converting: /content/python_dataset/email.parser.rst -> /content/python_dataset_txt/email.parser.txt\n",
            "Converting: /content/python_dataset/argparse.rst -> /content/python_dataset_txt/argparse.txt\n",
            "Converting: /content/python_dataset/email.policy.rst -> /content/python_dataset_txt/email.policy.txt\n"
          ]
        },
        {
          "output_type": "stream",
          "name": "stderr",
          "text": [
            "[WARNING] Reference not found for 'Key \"l\"' at chunk line 1 column 4\n",
            "WARNING:pypandoc:Reference not found for 'Key \"l\"' at chunk line 1 column 4\n",
            "[WARNING] Reference not found for 'mangle_from' at chunk line 1 column 13\n",
            "WARNING:pypandoc:Reference not found for 'mangle_from' at chunk line 1 column 13\n",
            "[WARNING] Reference not found for 'mangle_from' at chunk line 1 column 13\n",
            "\n",
            "WARNING:pypandoc:Reference not found for 'mangle_from' at chunk line 1 column 13\n",
            "\n"
          ]
        },
        {
          "output_type": "stream",
          "name": "stdout",
          "text": [
            "Converting: /content/python_dataset/fileformats.rst -> /content/python_dataset_txt/fileformats.txt\n",
            "Converting: /content/python_dataset/asyncio-stream.rst -> /content/python_dataset_txt/asyncio-stream.txt\n",
            "Converting: /content/python_dataset/time.rst -> /content/python_dataset_txt/time.txt\n",
            "Converting: /content/python_dataset/email.charset.rst -> /content/python_dataset_txt/email.charset.txt\n",
            "Converting: /content/python_dataset/audioop.rst -> /content/python_dataset_txt/audioop.txt\n",
            "Converting: /content/python_dataset/custominterp.rst -> /content/python_dataset_txt/custominterp.txt\n",
            "Converting: /content/python_dataset/ftplib.rst -> /content/python_dataset_txt/ftplib.txt\n"
          ]
        },
        {
          "output_type": "stream",
          "name": "stderr",
          "text": [
            "[WARNING] Could not load include file '../includes/wasm-notavail.rst' at line 26 column 1\n",
            "\n",
            "WARNING:pypandoc:Could not load include file '../includes/wasm-notavail.rst' at line 26 column 1\n",
            "\n"
          ]
        },
        {
          "output_type": "stream",
          "name": "stdout",
          "text": [
            "Converting: /content/python_dataset/asyncio-exceptions.rst -> /content/python_dataset_txt/asyncio-exceptions.txt\n",
            "Converting: /content/python_dataset/curses.ascii.rst -> /content/python_dataset_txt/curses.ascii.txt\n",
            "Converting: /content/python_dataset/pkgutil.rst -> /content/python_dataset_txt/pkgutil.txt\n",
            "Converting: /content/python_dataset/collections.rst -> /content/python_dataset_txt/collections.txt\n",
            "Converting: /content/python_dataset/sndhdr.rst -> /content/python_dataset_txt/sndhdr.txt\n",
            "Converting: /content/python_dataset/email.mime.rst -> /content/python_dataset_txt/email.mime.txt\n",
            "Converting: /content/python_dataset/termios.rst -> /content/python_dataset_txt/termios.txt\n",
            "Converting: /content/python_dataset/asyncore.rst -> /content/python_dataset_txt/asyncore.txt\n",
            "Converting: /content/python_dataset/urllib.parse.rst -> /content/python_dataset_txt/urllib.parse.txt\n",
            "Converting: /content/python_dataset/tabnanny.rst -> /content/python_dataset_txt/tabnanny.txt\n",
            "Converting: /content/python_dataset/language.rst -> /content/python_dataset_txt/language.txt\n",
            "Converting: /content/python_dataset/dataclasses.rst -> /content/python_dataset_txt/dataclasses.txt\n",
            "Converting: /content/python_dataset/xml.sax.reader.rst -> /content/python_dataset_txt/xml.sax.reader.txt\n",
            "Converting: /content/python_dataset/configparser.rst -> /content/python_dataset_txt/configparser.txt\n",
            "Converting: /content/python_dataset/xml.rst -> /content/python_dataset_txt/xml.txt\n",
            "Converting: /content/python_dataset/textwrap.rst -> /content/python_dataset_txt/textwrap.txt\n",
            "Converting: /content/python_dataset/__main__.rst -> /content/python_dataset_txt/__main__.txt\n",
            "Converting: /content/python_dataset/superseded.rst -> /content/python_dataset_txt/superseded.txt\n",
            "Converting: /content/python_dataset/urllib.error.rst -> /content/python_dataset_txt/urllib.error.txt\n",
            "Converting: /content/python_dataset/smtpd.rst -> /content/python_dataset_txt/smtpd.txt\n",
            "Converting: /content/python_dataset/optparse.rst -> /content/python_dataset_txt/optparse.txt\n"
          ]
        },
        {
          "output_type": "stream",
          "name": "stderr",
          "text": [
            "[WARNING] Reference not found for 'not' at chunk line 1 column 5\n",
            "WARNING:pypandoc:Reference not found for 'not' at chunk line 1 column 5\n",
            "[WARNING] Reference not found for 'is' at chunk line 1 column 4\n",
            "WARNING:pypandoc:Reference not found for 'is' at chunk line 1 column 4\n",
            "[WARNING] Reference not found for 'and' at chunk line 1 column 5\n",
            "WARNING:pypandoc:Reference not found for 'and' at chunk line 1 column 5\n",
            "[WARNING] Reference not found for 'or' at chunk line 1 column 4\n",
            "\n",
            "WARNING:pypandoc:Reference not found for 'or' at chunk line 1 column 4\n",
            "\n"
          ]
        },
        {
          "output_type": "stream",
          "name": "stdout",
          "text": [
            "Converting: /content/python_dataset/operator.rst -> /content/python_dataset_txt/operator.txt\n",
            "Converting: /content/python_dataset/xml.dom.pulldom.rst -> /content/python_dataset_txt/xml.dom.pulldom.txt\n",
            "Converting: /content/python_dataset/stdtypes.rst -> /content/python_dataset_txt/stdtypes.txt\n"
          ]
        },
        {
          "output_type": "stream",
          "name": "stderr",
          "text": [
            "[WARNING] Reference not found for 'Key \"= other\"' at chunk line 2 column 15\n",
            "\n",
            "WARNING:pypandoc:Reference not found for 'Key \"= other\"' at chunk line 2 column 15\n",
            "\n"
          ]
        },
        {
          "output_type": "stream",
          "name": "stdout",
          "text": [
            "Converting: /content/python_dataset/heapq.rst -> /content/python_dataset_txt/heapq.txt\n",
            "Converting: /content/python_dataset/devmode.rst -> /content/python_dataset_txt/devmode.txt\n",
            "Converting: /content/python_dataset/codeop.rst -> /content/python_dataset_txt/codeop.txt\n",
            "Converting: /content/python_dataset/xml.etree.elementtree.rst -> /content/python_dataset_txt/xml.etree.elementtree.txt\n"
          ]
        },
        {
          "output_type": "stream",
          "name": "stderr",
          "text": [
            "[WARNING] Reference not found for 'Key \"l\"' at chunk line 1 column 4\n",
            "\n",
            "WARNING:pypandoc:Reference not found for 'Key \"l\"' at chunk line 1 column 4\n",
            "\n"
          ]
        },
        {
          "output_type": "stream",
          "name": "stdout",
          "text": [
            "Converting: /content/python_dataset/python.rst -> /content/python_dataset_txt/python.txt\n",
            "Converting: /content/python_dataset/sys.rst -> /content/python_dataset_txt/sys.txt\n",
            "Converting: /content/python_dataset/filesys.rst -> /content/python_dataset_txt/filesys.txt\n",
            "Converting: /content/python_dataset/nntplib.rst -> /content/python_dataset_txt/nntplib.txt\n",
            "Converting: /content/python_dataset/zoneinfo.rst -> /content/python_dataset_txt/zoneinfo.txt\n"
          ]
        },
        {
          "output_type": "stream",
          "name": "stderr",
          "text": [
            "[WARNING] Could not load include file '../includes/wasm-notavail.rst' at line 34 column 1\n",
            "\n",
            "WARNING:pypandoc:Could not load include file '../includes/wasm-notavail.rst' at line 34 column 1\n",
            "\n"
          ]
        },
        {
          "output_type": "stream",
          "name": "stdout",
          "text": [
            "Converting: /content/python_dataset/zlib.rst -> /content/python_dataset_txt/zlib.txt\n",
            "Converting: /content/python_dataset/tkinter.dnd.rst -> /content/python_dataset_txt/tkinter.dnd.txt\n",
            "Converting: /content/python_dataset/zipapp.rst -> /content/python_dataset_txt/zipapp.txt\n",
            "Converting: /content/python_dataset/getopt.rst -> /content/python_dataset_txt/getopt.txt\n",
            "Converting: /content/python_dataset/asyncio-api-index.rst -> /content/python_dataset_txt/asyncio-api-index.txt\n",
            "Converting: /content/python_dataset/marshal.rst -> /content/python_dataset_txt/marshal.txt\n",
            "Converting: /content/python_dataset/tkinter.scrolledtext.rst -> /content/python_dataset_txt/tkinter.scrolledtext.txt\n"
          ]
        },
        {
          "output_type": "stream",
          "name": "stderr",
          "text": [
            "[WARNING] Could not load include file '../includes/wasm-notavail.rst' at line 43 column 1\n",
            "\n",
            "WARNING:pypandoc:Could not load include file '../includes/wasm-notavail.rst' at line 43 column 1\n",
            "\n"
          ]
        },
        {
          "output_type": "stream",
          "name": "stdout",
          "text": [
            "Converting: /content/python_dataset/selectors.rst -> /content/python_dataset_txt/selectors.txt\n",
            "Converting: /content/python_dataset/pickletools.rst -> /content/python_dataset_txt/pickletools.txt\n",
            "Converting: /content/python_dataset/quopri.rst -> /content/python_dataset_txt/quopri.txt\n",
            "Converting: /content/python_dataset/aifc.rst -> /content/python_dataset_txt/aifc.txt\n",
            "Converting: /content/python_dataset/tokenize.rst -> /content/python_dataset_txt/tokenize.txt\n",
            "Converting: /content/python_dataset/cgitb.rst -> /content/python_dataset_txt/cgitb.txt\n",
            "Converting: /content/python_dataset/netrc.rst -> /content/python_dataset_txt/netrc.txt\n",
            "Converting: /content/python_dataset/xml.dom.rst -> /content/python_dataset_txt/xml.dom.txt\n",
            "Converting: /content/python_dataset/intro.rst -> /content/python_dataset_txt/intro.txt\n",
            "Converting: /content/python_dataset/tempfile.rst -> /content/python_dataset_txt/tempfile.txt\n",
            "Converting: /content/python_dataset/tkinter.colorchooser.rst -> /content/python_dataset_txt/tkinter.colorchooser.txt\n",
            "Converting: /content/python_dataset/pydoc.rst -> /content/python_dataset_txt/pydoc.txt\n",
            "Converting: /content/python_dataset/subprocess.rst -> /content/python_dataset_txt/subprocess.txt\n"
          ]
        },
        {
          "output_type": "stream",
          "name": "stderr",
          "text": [
            "[WARNING] Could not load include file '../includes/wasm-mobile-notavail.rst' at line 30 column 1\n",
            "WARNING:pypandoc:Could not load include file '../includes/wasm-mobile-notavail.rst' at line 30 column 1\n",
            "[WARNING] Reference not found for 'side-by-side assembly' at chunk line 4 column 65\n",
            "\n",
            "WARNING:pypandoc:Reference not found for 'side-by-side assembly' at chunk line 4 column 65\n",
            "\n"
          ]
        },
        {
          "output_type": "stream",
          "name": "stdout",
          "text": [
            "Converting: /content/python_dataset/importlib.rst -> /content/python_dataset_txt/importlib.txt\n",
            "Converting: /content/python_dataset/posix.rst -> /content/python_dataset_txt/posix.txt\n",
            "Converting: /content/python_dataset/fcntl.rst -> /content/python_dataset_txt/fcntl.txt\n",
            "Converting: /content/python_dataset/csv.rst -> /content/python_dataset_txt/csv.txt\n",
            "Converting: /content/python_dataset/sqlite3.rst -> /content/python_dataset_txt/sqlite3.txt\n"
          ]
        },
        {
          "output_type": "stream",
          "name": "stderr",
          "text": [
            "[WARNING] Reference not found for 'sqlite_threadsafe' at chunk line 1 column 21\n",
            "WARNING:pypandoc:Reference not found for 'sqlite_threadsafe' at chunk line 1 column 21\n",
            "[WARNING] Reference not found for 'loading an extension' at chunk line 4 column 44\n",
            "WARNING:pypandoc:Reference not found for 'loading an extension' at chunk line 4 column 44\n",
            "[WARNING] Reference not found for 'sqlite limit category' at chunk line 1 column 29\n",
            "WARNING:pypandoc:Reference not found for 'sqlite limit category' at chunk line 1 column 29\n",
            "[WARNING] Reference not found for 'sqlite limit category' at chunk line 1 column 29\n",
            "WARNING:pypandoc:Reference not found for 'sqlite limit category' at chunk line 1 column 29\n",
            "[WARNING] Reference not found for 'database cursor' at chunk line 1 column 52\n",
            "WARNING:pypandoc:Reference not found for 'database cursor' at chunk line 1 column 52\n",
            "[WARNING] Reference not found for 'returning clauses' at chunk line 4 column 51\n",
            "\n",
            "WARNING:pypandoc:Reference not found for 'returning clauses' at chunk line 4 column 51\n",
            "\n"
          ]
        },
        {
          "output_type": "stream",
          "name": "stdout",
          "text": [
            "Converting: /content/python_dataset/turtle.rst -> /content/python_dataset_txt/turtle.txt\n"
          ]
        },
        {
          "output_type": "stream",
          "name": "stderr",
          "text": [
            "[WARNING] Reference not found for 'the popular geometric drawing tools introduced in logo <https://en.wikipedia.org/wiki/turtle_ (robot)>' at line 29 column 11\n",
            "WARNING:pypandoc:Reference not found for 'the popular geometric drawing tools introduced in logo <https://en.wikipedia.org/wiki/turtle_ (robot)>' at line 29 column 11\n",
            "[WARNING] Reference not found for 'Key \"l\"' at chunk line 1 column 4\n",
            "WARNING:pypandoc:Reference not found for 'Key \"l\"' at chunk line 1 column 4\n",
            "[WARNING] Reference not found for 'Key \"l\"' at chunk line 1 column 8\n",
            "\n",
            "WARNING:pypandoc:Reference not found for 'Key \"l\"' at chunk line 1 column 8\n",
            "\n"
          ]
        },
        {
          "output_type": "stream",
          "name": "stdout",
          "text": [
            "Converting: /content/python_dataset/urllib.request.rst -> /content/python_dataset_txt/urllib.request.txt\n"
          ]
        },
        {
          "output_type": "stream",
          "name": "stderr",
          "text": [
            "[WARNING] Could not load include file '../includes/wasm-notavail.rst' at line 34 column 1\n",
            "\n",
            "WARNING:pypandoc:Could not load include file '../includes/wasm-notavail.rst' at line 34 column 1\n",
            "\n"
          ]
        },
        {
          "output_type": "stream",
          "name": "stdout",
          "text": [
            "Converting: /content/python_dataset/tk.rst -> /content/python_dataset_txt/tk.txt\n",
            "Converting: /content/python_dataset/html.entities.rst -> /content/python_dataset_txt/html.entities.txt\n",
            "Converting: /content/python_dataset/imp.rst -> /content/python_dataset_txt/imp.txt\n",
            "Converting: /content/python_dataset/errno.rst -> /content/python_dataset_txt/errno.txt\n",
            "Converting: /content/python_dataset/importlib.metadata.rst -> /content/python_dataset_txt/importlib.metadata.txt\n",
            "Converting: /content/python_dataset/datetime.rst -> /content/python_dataset_txt/datetime.txt\n",
            "Converting: /content/python_dataset/sys_path_init.rst -> /content/python_dataset_txt/sys_path_init.txt\n",
            "Converting: /content/python_dataset/plistlib.rst -> /content/python_dataset_txt/plistlib.txt\n",
            "Converting: /content/python_dataset/random.rst -> /content/python_dataset_txt/random.txt\n",
            "Converting: /content/python_dataset/concurrency.rst -> /content/python_dataset_txt/concurrency.txt\n",
            "Converting: /content/python_dataset/calendar.rst -> /content/python_dataset_txt/calendar.txt\n",
            "Converting: /content/python_dataset/unittest.mock-examples.rst -> /content/python_dataset_txt/unittest.mock-examples.txt\n"
          ]
        },
        {
          "output_type": "stream",
          "name": "stderr",
          "text": [
            "[WARNING] Could not load include file '../includes/wasm-notavail.rst' at line 33 column 1\n",
            "WARNING:pypandoc:Could not load include file '../includes/wasm-notavail.rst' at line 33 column 1\n",
            "[WARNING] Reference not found for 'pop3.pass' at chunk line 1 column 11\n",
            "\n",
            "WARNING:pypandoc:Reference not found for 'pop3.pass' at chunk line 1 column 11\n",
            "\n"
          ]
        },
        {
          "output_type": "stream",
          "name": "stdout",
          "text": [
            "Converting: /content/python_dataset/poplib.rst -> /content/python_dataset_txt/poplib.txt\n",
            "Converting: /content/python_dataset/email.message.rst -> /content/python_dataset_txt/email.message.txt\n",
            "Converting: /content/python_dataset/multiprocessing.rst -> /content/python_dataset_txt/multiprocessing.txt\n"
          ]
        },
        {
          "output_type": "stream",
          "name": "stderr",
          "text": [
            "[WARNING] Could not load include file '../includes/wasm-mobile-notavail.rst' at line 13 column 1\n",
            "\n",
            "WARNING:pypandoc:Could not load include file '../includes/wasm-mobile-notavail.rst' at line 13 column 1\n",
            "\n"
          ]
        },
        {
          "output_type": "stream",
          "name": "stdout",
          "text": [
            "Converting: /content/python_dataset/i18n.rst -> /content/python_dataset_txt/i18n.txt\n",
            "Converting: /content/python_dataset/contextlib.rst -> /content/python_dataset_txt/contextlib.txt\n"
          ]
        },
        {
          "output_type": "stream",
          "name": "stderr",
          "text": [
            "[WARNING] Could not load include file '../includes/wasm-notavail.rst' at line 24 column 1\n",
            "\n",
            "WARNING:pypandoc:Could not load include file '../includes/wasm-notavail.rst' at line 24 column 1\n",
            "\n"
          ]
        },
        {
          "output_type": "stream",
          "name": "stdout",
          "text": [
            "Converting: /content/python_dataset/smtplib.rst -> /content/python_dataset_txt/smtplib.txt\n",
            "Converting: /content/python_dataset/ensurepip.rst -> /content/python_dataset_txt/ensurepip.txt\n"
          ]
        },
        {
          "output_type": "stream",
          "name": "stderr",
          "text": [
            "[WARNING] Could not load include file '../includes/wasm-mobile-notavail.rst' at line 43 column 1\n",
            "\n",
            "WARNING:pypandoc:Could not load include file '../includes/wasm-mobile-notavail.rst' at line 43 column 1\n",
            "\n",
            "[WARNING] Reference not found for 'Key \"l\"' at chunk line 1 column 4\n",
            "WARNING:pypandoc:Reference not found for 'Key \"l\"' at chunk line 1 column 4\n",
            "[WARNING] Reference not found for 'Key \"l\"' at chunk line 1 column 8\n",
            "\n",
            "WARNING:pypandoc:Reference not found for 'Key \"l\"' at chunk line 1 column 8\n",
            "\n"
          ]
        },
        {
          "output_type": "stream",
          "name": "stdout",
          "text": [
            "Converting: /content/python_dataset/collections.abc.rst -> /content/python_dataset_txt/collections.abc.txt\n",
            "Converting: /content/python_dataset/asyncio-runner.rst -> /content/python_dataset_txt/asyncio-runner.txt\n",
            "Converting: /content/python_dataset/curses.panel.rst -> /content/python_dataset_txt/curses.panel.txt\n",
            "Converting: /content/python_dataset/os.rst -> /content/python_dataset_txt/os.txt\n",
            "Converting: /content/python_dataset/asyncio-task.rst -> /content/python_dataset_txt/asyncio-task.txt\n",
            "Converting: /content/python_dataset/tty.rst -> /content/python_dataset_txt/tty.txt\n",
            "Converting: /content/python_dataset/math.rst -> /content/python_dataset_txt/math.txt\n",
            "Converting: /content/python_dataset/email.rst -> /content/python_dataset_txt/email.txt\n",
            "Converting: /content/python_dataset/bz2.rst -> /content/python_dataset_txt/bz2.txt\n",
            "Converting: /content/python_dataset/unix.rst -> /content/python_dataset_txt/unix.txt\n",
            "Converting: /content/python_dataset/ast.rst -> /content/python_dataset_txt/ast.txt\n",
            "Converting: /content/python_dataset/xml.dom.minidom.rst -> /content/python_dataset_txt/xml.dom.minidom.txt\n",
            "Converting: /content/python_dataset/typing.rst -> /content/python_dataset_txt/typing.txt\n"
          ]
        },
        {
          "output_type": "stream",
          "name": "stderr",
          "text": [
            "[WARNING] Could not load include file '../includes/wasm-notavail.rst' at line 32 column 1\n",
            "\n",
            "WARNING:pypandoc:Could not load include file '../includes/wasm-notavail.rst' at line 32 column 1\n",
            "\n"
          ]
        },
        {
          "output_type": "stream",
          "name": "stdout",
          "text": [
            "Converting: /content/python_dataset/imaplib.rst -> /content/python_dataset_txt/imaplib.txt\n",
            "Converting: /content/python_dataset/struct.rst -> /content/python_dataset_txt/struct.txt\n",
            "Converting: /content/python_dataset/telnetlib.rst -> /content/python_dataset_txt/telnetlib.txt\n",
            "Converting: /content/python_dataset/itertools.rst -> /content/python_dataset_txt/itertools.txt\n",
            "Converting: /content/python_dataset/cmdline.rst -> /content/python_dataset_txt/cmdline.txt\n",
            "Converting: /content/python_dataset/difflib.rst -> /content/python_dataset_txt/difflib.txt\n"
          ]
        },
        {
          "output_type": "stream",
          "name": "stderr",
          "text": [
            "[WARNING] Could not load include file '../includes/wasm-notavail.rst' at line 61 column 1\n",
            "\n",
            "WARNING:pypandoc:Could not load include file '../includes/wasm-notavail.rst' at line 61 column 1\n",
            "\n"
          ]
        },
        {
          "output_type": "stream",
          "name": "stdout",
          "text": [
            "Converting: /content/python_dataset/asyncio.rst -> /content/python_dataset_txt/asyncio.txt\n",
            "Converting: /content/python_dataset/multiprocessing.shared_memory.rst -> /content/python_dataset_txt/multiprocessing.shared_memory.txt\n",
            "Converting: /content/python_dataset/asyncio-sync.rst -> /content/python_dataset_txt/asyncio-sync.txt\n",
            "Converting: /content/python_dataset/runpy.rst -> /content/python_dataset_txt/runpy.txt\n",
            "Converting: /content/python_dataset/sys.monitoring.rst -> /content/python_dataset_txt/sys.monitoring.txt\n",
            "Converting: /content/python_dataset/urllib.robotparser.rst -> /content/python_dataset_txt/urllib.robotparser.txt\n",
            "Converting: /content/python_dataset/filecmp.rst -> /content/python_dataset_txt/filecmp.txt\n",
            "Converting: /content/python_dataset/abc.rst -> /content/python_dataset_txt/abc.txt\n",
            "Converting: /content/python_dataset/hmac.rst -> /content/python_dataset_txt/hmac.txt\n",
            "All .rst files have been converted and combined into: /content/python_dataset_combined.txt\n"
          ]
        }
      ]
    },
    {
      "cell_type": "code",
      "source": [
        "with open('python_dataset_combined.txt', 'r', encoding='utf-8') as f:\n",
        "  text = f.read()"
      ],
      "metadata": {
        "id": "nMlZt10IV-ZQ"
      },
      "execution_count": 21,
      "outputs": []
    },
    {
      "cell_type": "code",
      "source": [
        "print(len(text))"
      ],
      "metadata": {
        "colab": {
          "base_uri": "https://localhost:8080/"
        },
        "id": "0lkC2FYpdISk",
        "outputId": "f05dade8-6460-4919-bea5-bf2d6b58a2b0"
      },
      "execution_count": 23,
      "outputs": [
        {
          "output_type": "stream",
          "name": "stdout",
          "text": [
            "5535072\n"
          ]
        }
      ]
    },
    {
      "cell_type": "code",
      "source": [
        "print(text[:1000])"
      ],
      "metadata": {
        "colab": {
          "base_uri": "https://localhost:8080/"
        },
        "id": "BIXrWIG6dP3c",
        "outputId": "180573b0-8258-4857-9efc-8357d3c891ce"
      },
      "execution_count": 24,
      "outputs": [
        {
          "output_type": "stream",
          "name": "stdout",
          "text": [
            "!pkgutil --- Package extension utility\n",
            "\n",
            "pkgutil\n",
            "\n",
            "Source code: Lib/pkgutil.py\n",
            "\n",
            "------------------------------------------------------------------------\n",
            "\n",
            "This module provides utilities for the import system, in particular\n",
            "package support.\n",
            "\n",
            "A namedtuple that holds a brief summary of a module's info.\n",
            "\n",
            "3.6\n",
            "\n",
            "extend_path(path, name)\n",
            "\n",
            "Extend the search path for the modules which comprise a package.\n",
            "Intended use is to place the following code in a package's __init__.py:\n",
            "\n",
            "    from pkgutil import extend_path\n",
            "    __path__ = extend_path(__path__, __name__)\n",
            "\n",
            "For each directory on sys.path that has a subdirectory that matches the\n",
            "package name, add the subdirectory to the package's ~module.__path__.\n",
            "This is useful if one wants to distribute different parts of a single\n",
            "logical package as multiple directories.\n",
            "\n",
            "It also looks for \\*.pkg files beginning where * matches the name\n",
            "argument. This feature is similar to \\*.pth files (see the site module\n",
            "for more information), except that it doesn't special-case\n"
          ]
        }
      ]
    },
    {
      "cell_type": "code",
      "source": [
        "chars = sorted(list(set(text)))\n",
        "vocab_size = len(chars)\n",
        "print(chars)\n",
        "print(len(chars))"
      ],
      "metadata": {
        "colab": {
          "base_uri": "https://localhost:8080/"
        },
        "id": "Gi75-3B9dsv0",
        "outputId": "66cb9ba2-db73-4e58-f1f1-b88e7f11f08e"
      },
      "execution_count": 25,
      "outputs": [
        {
          "output_type": "stream",
          "name": "stdout",
          "text": [
            "['\\n', ' ', '!', '\"', '#', '$', '%', '&', \"'\", '(', ')', '*', '+', ',', '-', '.', '/', '0', '1', '2', '3', '4', '5', '6', '7', '8', '9', ':', ';', '<', '=', '>', '?', '@', 'A', 'B', 'C', 'D', 'E', 'F', 'G', 'H', 'I', 'J', 'K', 'L', 'M', 'N', 'O', 'P', 'Q', 'R', 'S', 'T', 'U', 'V', 'W', 'X', 'Y', 'Z', '[', '\\\\', ']', '^', '_', '`', 'a', 'b', 'c', 'd', 'e', 'f', 'g', 'h', 'i', 'j', 'k', 'l', 'm', 'n', 'o', 'p', 'q', 'r', 's', 't', 'u', 'v', 'w', 'x', 'y', 'z', '{', '|', '}', '~', '\\xa0', '§', '±', '²', '³', '¹', 'Å', 'Ü', 'ß', 'à', 'á', 'ä', 'ç', 'è', 'é', 'ï', 'ñ', 'ö', 'û', 'ü', 'ā', 'ī', 'İ', 'ı', 'Ł', 'ſ', 'μ', 'π', 'σ', 'τ', '٤', '௪', '౪', '໔', '–', '—', '’', '“', '”', '⁰', '⁴', '⁵', '⁶', '⁷', '⁻', 'ⁿ', '₁', '₂', '€', 'K', '→', '−', '∞', '≤', '─', '└', '├', '♬', '�']\n",
            "155\n"
          ]
        }
      ]
    },
    {
      "cell_type": "code",
      "source": [
        "stoi = {ch: i for i, ch in enumerate(chars)}\n",
        "\n",
        "itos = {i: ch for i, ch in enumerate(chars)}\n",
        "\n",
        "encode = lambda s: [stoi[c] for c in s]\n",
        "\n",
        "decode = lambda l: ''.join([itos[i] for i in l])\n",
        "\n",
        "encoded = encode(\"hii there\")\n",
        "print(encoded)  # Output: [46, 47, 47, 1, 58, 46, 43, 56, 43]\n",
        "\n",
        "decoded = decode(encoded)\n",
        "print(decoded)  # Output: \"hii there\""
      ],
      "metadata": {
        "colab": {
          "base_uri": "https://localhost:8080/"
        },
        "id": "uDqfpUmofZhQ",
        "outputId": "fafe1afe-87d7-4c4d-de9b-a8244de434f2"
      },
      "execution_count": 26,
      "outputs": [
        {
          "output_type": "stream",
          "name": "stdout",
          "text": [
            "[73, 74, 74, 1, 85, 73, 70, 83, 70]\n",
            "hii there\n"
          ]
        }
      ]
    }
  ]
}